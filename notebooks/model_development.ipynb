{
  "nbformat": 4,
  "nbformat_minor": 0,
  "metadata": {
    "colab": {
      "provenance": [],
      "collapsed_sections": [
        "GazP3J3WbFN-"
      ]
    },
    "kernelspec": {
      "name": "python3",
      "display_name": "Python 3"
    },
    "language_info": {
      "name": "python"
    }
  },
  "cells": [
    {
      "cell_type": "markdown",
      "source": [
        "#Model development"
      ],
      "metadata": {
        "id": "3JAYBHKlbBd-"
      }
    },
    {
      "cell_type": "markdown",
      "source": [
        "##Install packages"
      ],
      "metadata": {
        "id": "GazP3J3WbFN-"
      }
    },
    {
      "cell_type": "code",
      "execution_count": 1,
      "metadata": {
        "colab": {
          "base_uri": "https://localhost:8080/"
        },
        "id": "hC6sIS9_a9lb",
        "outputId": "d860c77d-1a5d-4c9e-ac8e-3e8272da7a3d"
      },
      "outputs": [
        {
          "output_type": "stream",
          "name": "stdout",
          "text": [
            "Requirement already satisfied: pandas in /usr/local/lib/python3.10/dist-packages (2.0.3)\n",
            "Requirement already satisfied: scikit-learn in /usr/local/lib/python3.10/dist-packages (1.2.2)\n",
            "Requirement already satisfied: tensorflow in /usr/local/lib/python3.10/dist-packages (2.15.0)\n",
            "Collecting keras-tuner\n",
            "  Downloading keras_tuner-1.4.7-py3-none-any.whl (129 kB)\n",
            "\u001b[2K     \u001b[90m━━━━━━━━━━━━━━━━━━━━━━━━━━━━━━━━━━━━━━━━\u001b[0m \u001b[32m129.1/129.1 kB\u001b[0m \u001b[31m2.1 MB/s\u001b[0m eta \u001b[36m0:00:00\u001b[0m\n",
            "\u001b[?25hRequirement already satisfied: python-dateutil>=2.8.2 in /usr/local/lib/python3.10/dist-packages (from pandas) (2.8.2)\n",
            "Requirement already satisfied: pytz>=2020.1 in /usr/local/lib/python3.10/dist-packages (from pandas) (2023.4)\n",
            "Requirement already satisfied: tzdata>=2022.1 in /usr/local/lib/python3.10/dist-packages (from pandas) (2024.1)\n",
            "Requirement already satisfied: numpy>=1.21.0 in /usr/local/lib/python3.10/dist-packages (from pandas) (1.25.2)\n",
            "Requirement already satisfied: scipy>=1.3.2 in /usr/local/lib/python3.10/dist-packages (from scikit-learn) (1.11.4)\n",
            "Requirement already satisfied: joblib>=1.1.1 in /usr/local/lib/python3.10/dist-packages (from scikit-learn) (1.4.2)\n",
            "Requirement already satisfied: threadpoolctl>=2.0.0 in /usr/local/lib/python3.10/dist-packages (from scikit-learn) (3.5.0)\n",
            "Requirement already satisfied: absl-py>=1.0.0 in /usr/local/lib/python3.10/dist-packages (from tensorflow) (1.4.0)\n",
            "Requirement already satisfied: astunparse>=1.6.0 in /usr/local/lib/python3.10/dist-packages (from tensorflow) (1.6.3)\n",
            "Requirement already satisfied: flatbuffers>=23.5.26 in /usr/local/lib/python3.10/dist-packages (from tensorflow) (24.3.25)\n",
            "Requirement already satisfied: gast!=0.5.0,!=0.5.1,!=0.5.2,>=0.2.1 in /usr/local/lib/python3.10/dist-packages (from tensorflow) (0.6.0)\n",
            "Requirement already satisfied: google-pasta>=0.1.1 in /usr/local/lib/python3.10/dist-packages (from tensorflow) (0.2.0)\n",
            "Requirement already satisfied: h5py>=2.9.0 in /usr/local/lib/python3.10/dist-packages (from tensorflow) (3.9.0)\n",
            "Requirement already satisfied: libclang>=13.0.0 in /usr/local/lib/python3.10/dist-packages (from tensorflow) (18.1.1)\n",
            "Requirement already satisfied: ml-dtypes~=0.2.0 in /usr/local/lib/python3.10/dist-packages (from tensorflow) (0.2.0)\n",
            "Requirement already satisfied: opt-einsum>=2.3.2 in /usr/local/lib/python3.10/dist-packages (from tensorflow) (3.3.0)\n",
            "Requirement already satisfied: packaging in /usr/local/lib/python3.10/dist-packages (from tensorflow) (24.1)\n",
            "Requirement already satisfied: protobuf!=4.21.0,!=4.21.1,!=4.21.2,!=4.21.3,!=4.21.4,!=4.21.5,<5.0.0dev,>=3.20.3 in /usr/local/lib/python3.10/dist-packages (from tensorflow) (3.20.3)\n",
            "Requirement already satisfied: setuptools in /usr/local/lib/python3.10/dist-packages (from tensorflow) (67.7.2)\n",
            "Requirement already satisfied: six>=1.12.0 in /usr/local/lib/python3.10/dist-packages (from tensorflow) (1.16.0)\n",
            "Requirement already satisfied: termcolor>=1.1.0 in /usr/local/lib/python3.10/dist-packages (from tensorflow) (2.4.0)\n",
            "Requirement already satisfied: typing-extensions>=3.6.6 in /usr/local/lib/python3.10/dist-packages (from tensorflow) (4.12.2)\n",
            "Requirement already satisfied: wrapt<1.15,>=1.11.0 in /usr/local/lib/python3.10/dist-packages (from tensorflow) (1.14.1)\n",
            "Requirement already satisfied: tensorflow-io-gcs-filesystem>=0.23.1 in /usr/local/lib/python3.10/dist-packages (from tensorflow) (0.37.0)\n",
            "Requirement already satisfied: grpcio<2.0,>=1.24.3 in /usr/local/lib/python3.10/dist-packages (from tensorflow) (1.64.1)\n",
            "Requirement already satisfied: tensorboard<2.16,>=2.15 in /usr/local/lib/python3.10/dist-packages (from tensorflow) (2.15.2)\n",
            "Requirement already satisfied: tensorflow-estimator<2.16,>=2.15.0 in /usr/local/lib/python3.10/dist-packages (from tensorflow) (2.15.0)\n",
            "Requirement already satisfied: keras<2.16,>=2.15.0 in /usr/local/lib/python3.10/dist-packages (from tensorflow) (2.15.0)\n",
            "Requirement already satisfied: requests in /usr/local/lib/python3.10/dist-packages (from keras-tuner) (2.31.0)\n",
            "Collecting kt-legacy (from keras-tuner)\n",
            "  Downloading kt_legacy-1.0.5-py3-none-any.whl (9.6 kB)\n",
            "Requirement already satisfied: wheel<1.0,>=0.23.0 in /usr/local/lib/python3.10/dist-packages (from astunparse>=1.6.0->tensorflow) (0.43.0)\n",
            "Requirement already satisfied: google-auth<3,>=1.6.3 in /usr/local/lib/python3.10/dist-packages (from tensorboard<2.16,>=2.15->tensorflow) (2.27.0)\n",
            "Requirement already satisfied: google-auth-oauthlib<2,>=0.5 in /usr/local/lib/python3.10/dist-packages (from tensorboard<2.16,>=2.15->tensorflow) (1.2.0)\n",
            "Requirement already satisfied: markdown>=2.6.8 in /usr/local/lib/python3.10/dist-packages (from tensorboard<2.16,>=2.15->tensorflow) (3.6)\n",
            "Requirement already satisfied: tensorboard-data-server<0.8.0,>=0.7.0 in /usr/local/lib/python3.10/dist-packages (from tensorboard<2.16,>=2.15->tensorflow) (0.7.2)\n",
            "Requirement already satisfied: werkzeug>=1.0.1 in /usr/local/lib/python3.10/dist-packages (from tensorboard<2.16,>=2.15->tensorflow) (3.0.3)\n",
            "Requirement already satisfied: charset-normalizer<4,>=2 in /usr/local/lib/python3.10/dist-packages (from requests->keras-tuner) (3.3.2)\n",
            "Requirement already satisfied: idna<4,>=2.5 in /usr/local/lib/python3.10/dist-packages (from requests->keras-tuner) (3.7)\n",
            "Requirement already satisfied: urllib3<3,>=1.21.1 in /usr/local/lib/python3.10/dist-packages (from requests->keras-tuner) (2.0.7)\n",
            "Requirement already satisfied: certifi>=2017.4.17 in /usr/local/lib/python3.10/dist-packages (from requests->keras-tuner) (2024.6.2)\n",
            "Requirement already satisfied: cachetools<6.0,>=2.0.0 in /usr/local/lib/python3.10/dist-packages (from google-auth<3,>=1.6.3->tensorboard<2.16,>=2.15->tensorflow) (5.3.3)\n",
            "Requirement already satisfied: pyasn1-modules>=0.2.1 in /usr/local/lib/python3.10/dist-packages (from google-auth<3,>=1.6.3->tensorboard<2.16,>=2.15->tensorflow) (0.4.0)\n",
            "Requirement already satisfied: rsa<5,>=3.1.4 in /usr/local/lib/python3.10/dist-packages (from google-auth<3,>=1.6.3->tensorboard<2.16,>=2.15->tensorflow) (4.9)\n",
            "Requirement already satisfied: requests-oauthlib>=0.7.0 in /usr/local/lib/python3.10/dist-packages (from google-auth-oauthlib<2,>=0.5->tensorboard<2.16,>=2.15->tensorflow) (1.3.1)\n",
            "Requirement already satisfied: MarkupSafe>=2.1.1 in /usr/local/lib/python3.10/dist-packages (from werkzeug>=1.0.1->tensorboard<2.16,>=2.15->tensorflow) (2.1.5)\n",
            "Requirement already satisfied: pyasn1<0.7.0,>=0.4.6 in /usr/local/lib/python3.10/dist-packages (from pyasn1-modules>=0.2.1->google-auth<3,>=1.6.3->tensorboard<2.16,>=2.15->tensorflow) (0.6.0)\n",
            "Requirement already satisfied: oauthlib>=3.0.0 in /usr/local/lib/python3.10/dist-packages (from requests-oauthlib>=0.7.0->google-auth-oauthlib<2,>=0.5->tensorboard<2.16,>=2.15->tensorflow) (3.2.2)\n",
            "Installing collected packages: kt-legacy, keras-tuner\n",
            "Successfully installed keras-tuner-1.4.7 kt-legacy-1.0.5\n"
          ]
        }
      ],
      "source": [
        "pip install pandas scikit-learn tensorflow keras-tuner"
      ]
    },
    {
      "cell_type": "markdown",
      "source": [
        "##Import libraries"
      ],
      "metadata": {
        "id": "WWrI0-u2bLJU"
      }
    },
    {
      "cell_type": "code",
      "source": [
        "import pandas as pd\n",
        "from sklearn.model_selection import train_test_split\n",
        "from sklearn.preprocessing import LabelEncoder\n",
        "import tensorflow as tf\n",
        "from tensorflow.keras.utils import to_categorical\n",
        "from tensorflow.keras.models import Sequential\n",
        "from tensorflow.keras.layers import Dense\n",
        "from tensorflow.keras.optimizers import Adam\n",
        "from kerastuner.tuners import RandomSearch\n",
        "from google.colab import drive"
      ],
      "metadata": {
        "colab": {
          "base_uri": "https://localhost:8080/"
        },
        "id": "3T7AGpQsbA55",
        "outputId": "66a9f93f-7d3f-4cad-fcaf-6c487312fa49"
      },
      "execution_count": 2,
      "outputs": [
        {
          "output_type": "stream",
          "name": "stderr",
          "text": [
            "<ipython-input-2-3f0f5481e0d1>:9: DeprecationWarning: `import kerastuner` is deprecated, please use `import keras_tuner`.\n",
            "  from kerastuner.tuners import RandomSearch\n"
          ]
        }
      ]
    },
    {
      "cell_type": "markdown",
      "source": [
        "##Data split"
      ],
      "metadata": {
        "id": "lruMu65AjhJa"
      }
    },
    {
      "cell_type": "code",
      "source": [
        "drive.mount('/content/drive')\n",
        "data = pd.read_csv('/content/drive/My Drive/sonar_updated.csv')\n",
        "X = data.drop('60', axis=1)\n",
        "Y = data['60']\n",
        "\n",
        "encoder = LabelEncoder()\n",
        "Y = to_categorical(encoder.fit_transform(Y))\n",
        "\n",
        "X_train, X_sec, Y_train, Y_sec = train_test_split(X, Y, test_size=0.4, random_state=0)\n",
        "X_test, X_valid, Y_test, Y_valid = train_test_split(X_sec, Y_sec, test_size=0.5, random_state=0)"
      ],
      "metadata": {
        "colab": {
          "base_uri": "https://localhost:8080/"
        },
        "id": "DRjoa-1HkiE7",
        "outputId": "0ae86446-0acf-403f-f669-0a05bfe0133d"
      },
      "execution_count": 3,
      "outputs": [
        {
          "output_type": "stream",
          "name": "stdout",
          "text": [
            "Mounted at /content/drive\n"
          ]
        }
      ]
    },
    {
      "cell_type": "markdown",
      "source": [
        "##Neural network model"
      ],
      "metadata": {
        "id": "BXDKIKAjbRMO"
      }
    },
    {
      "cell_type": "code",
      "source": [
        "def build_model(hp):\n",
        "    model = Sequential()\n",
        "    model.add(Dense(\n",
        "        units=hp.Int('units_input', min_value=32, max_value=512, step=32),\n",
        "        input_dim=X_train.shape[1],\n",
        "        activation='relu'\n",
        "    ))\n",
        "    for i in range(hp.Int('n_layers', 1, 5)):\n",
        "        model.add(Dense(\n",
        "            units=hp.Int(f'units_layer{i}', min_value=32, max_value=512, step=32),\n",
        "            activation='relu'\n",
        "        ))\n",
        "    model.add(Dense(2, activation='softmax'))\n",
        "    model.compile(\n",
        "        optimizer=Adam(\n",
        "            hp.Choice('learning_rate', values=[1e-2, 1e-3, 1e-4])\n",
        "        ),\n",
        "        loss='categorical_crossentropy',\n",
        "        metrics=['accuracy']\n",
        "    )\n",
        "    return model"
      ],
      "metadata": {
        "id": "-4CwgMndbYRd"
      },
      "execution_count": 4,
      "outputs": []
    },
    {
      "cell_type": "markdown",
      "source": [
        "##Hyperparemeter tuning"
      ],
      "metadata": {
        "id": "YVYkvyGgbY4Y"
      }
    },
    {
      "cell_type": "code",
      "source": [
        "tuner = RandomSearch(\n",
        "    build_model,\n",
        "    objective='val_accuracy',\n",
        "    max_trials=10,\n",
        "    executions_per_trial=2,\n",
        "    directory='my_dir',\n",
        "    project_name='sonar_kt'\n",
        ")\n",
        "\n",
        "tuner.search(X_train, Y_train, epochs=10, validation_data=(X_valid, Y_valid))\n",
        "\n",
        "best_model = tuner.get_best_models(num_models=1)[0]"
      ],
      "metadata": {
        "colab": {
          "base_uri": "https://localhost:8080/"
        },
        "id": "Iw7ADwtnbdNK",
        "outputId": "2098bfd8-c48c-45a1-b248-7344dec00958"
      },
      "execution_count": 5,
      "outputs": [
        {
          "output_type": "stream",
          "name": "stdout",
          "text": [
            "Trial 10 Complete [00h 00m 05s]\n",
            "val_accuracy: 0.630952388048172\n",
            "\n",
            "Best val_accuracy So Far: 0.8095238208770752\n",
            "Total elapsed time: 00h 00m 54s\n"
          ]
        }
      ]
    },
    {
      "cell_type": "markdown",
      "source": [
        "##Model training"
      ],
      "metadata": {
        "id": "D97Cwky2bdcW"
      }
    },
    {
      "cell_type": "code",
      "source": [
        "best_model.fit(X_train, Y_train, epochs=50, batch_size=10, validation_split=0.2)\n",
        "history = best_model.fit(X_test, Y_test, epochs=50, batch_size=10, validation_split=0.2)\n",
        "loss, accuracy = best_model.evaluate(X_test, Y_test)\n",
        "print(f'Best model loss: {loss}, accuracy: {accuracy}')\n",
        "\n",
        "tuner.results_summary()"
      ],
      "metadata": {
        "colab": {
          "base_uri": "https://localhost:8080/"
        },
        "id": "Op_wGV9SbiaQ",
        "outputId": "4989c839-38f1-47a4-c068-f6c262556e23"
      },
      "execution_count": 6,
      "outputs": [
        {
          "output_type": "stream",
          "name": "stdout",
          "text": [
            "Epoch 1/50\n",
            "10/10 [==============================] - 1s 63ms/step - loss: 0.6220 - accuracy: 0.6566 - val_loss: 0.4243 - val_accuracy: 0.8800\n",
            "Epoch 2/50\n",
            "10/10 [==============================] - 0s 28ms/step - loss: 0.5726 - accuracy: 0.7374 - val_loss: 0.4545 - val_accuracy: 0.8400\n",
            "Epoch 3/50\n",
            "10/10 [==============================] - 0s 15ms/step - loss: 0.5532 - accuracy: 0.6869 - val_loss: 0.5091 - val_accuracy: 0.7200\n",
            "Epoch 4/50\n",
            "10/10 [==============================] - 0s 16ms/step - loss: 0.4562 - accuracy: 0.7778 - val_loss: 0.4352 - val_accuracy: 0.7200\n",
            "Epoch 5/50\n",
            "10/10 [==============================] - 0s 15ms/step - loss: 0.4334 - accuracy: 0.7677 - val_loss: 0.4354 - val_accuracy: 0.8400\n",
            "Epoch 6/50\n",
            "10/10 [==============================] - 0s 21ms/step - loss: 0.4221 - accuracy: 0.7677 - val_loss: 0.4215 - val_accuracy: 0.8400\n",
            "Epoch 7/50\n",
            "10/10 [==============================] - 0s 21ms/step - loss: 0.4071 - accuracy: 0.7980 - val_loss: 0.3927 - val_accuracy: 0.7600\n",
            "Epoch 8/50\n",
            "10/10 [==============================] - 0s 19ms/step - loss: 0.3889 - accuracy: 0.8081 - val_loss: 0.5124 - val_accuracy: 0.6800\n",
            "Epoch 9/50\n",
            "10/10 [==============================] - 0s 13ms/step - loss: 0.3054 - accuracy: 0.8485 - val_loss: 0.4919 - val_accuracy: 0.8400\n",
            "Epoch 10/50\n",
            "10/10 [==============================] - 0s 14ms/step - loss: 0.4359 - accuracy: 0.7778 - val_loss: 0.3839 - val_accuracy: 0.8400\n",
            "Epoch 11/50\n",
            "10/10 [==============================] - 0s 25ms/step - loss: 0.4560 - accuracy: 0.7374 - val_loss: 0.5276 - val_accuracy: 0.6400\n",
            "Epoch 12/50\n",
            "10/10 [==============================] - 0s 16ms/step - loss: 0.3819 - accuracy: 0.8687 - val_loss: 0.3074 - val_accuracy: 0.8400\n",
            "Epoch 13/50\n",
            "10/10 [==============================] - 0s 16ms/step - loss: 0.4460 - accuracy: 0.7879 - val_loss: 0.3940 - val_accuracy: 0.8400\n",
            "Epoch 14/50\n",
            "10/10 [==============================] - 0s 23ms/step - loss: 0.4009 - accuracy: 0.7576 - val_loss: 0.4862 - val_accuracy: 0.7200\n",
            "Epoch 15/50\n",
            "10/10 [==============================] - 0s 16ms/step - loss: 0.3053 - accuracy: 0.8687 - val_loss: 0.3152 - val_accuracy: 0.8000\n",
            "Epoch 16/50\n",
            "10/10 [==============================] - 0s 14ms/step - loss: 0.3127 - accuracy: 0.8384 - val_loss: 0.3140 - val_accuracy: 0.8400\n",
            "Epoch 17/50\n",
            "10/10 [==============================] - 0s 15ms/step - loss: 0.3508 - accuracy: 0.8182 - val_loss: 0.4448 - val_accuracy: 0.7200\n",
            "Epoch 18/50\n",
            "10/10 [==============================] - 0s 27ms/step - loss: 0.2685 - accuracy: 0.9091 - val_loss: 0.3456 - val_accuracy: 0.8400\n",
            "Epoch 19/50\n",
            "10/10 [==============================] - 0s 16ms/step - loss: 0.3376 - accuracy: 0.8283 - val_loss: 0.2800 - val_accuracy: 0.8800\n",
            "Epoch 20/50\n",
            "10/10 [==============================] - 0s 20ms/step - loss: 0.2351 - accuracy: 0.8889 - val_loss: 0.3118 - val_accuracy: 0.7600\n",
            "Epoch 21/50\n",
            "10/10 [==============================] - 0s 14ms/step - loss: 0.2657 - accuracy: 0.8889 - val_loss: 0.5787 - val_accuracy: 0.7200\n",
            "Epoch 22/50\n",
            "10/10 [==============================] - 0s 15ms/step - loss: 0.2528 - accuracy: 0.8586 - val_loss: 0.2633 - val_accuracy: 0.8800\n",
            "Epoch 23/50\n",
            "10/10 [==============================] - 0s 17ms/step - loss: 0.2396 - accuracy: 0.8586 - val_loss: 0.2639 - val_accuracy: 0.8000\n",
            "Epoch 24/50\n",
            "10/10 [==============================] - 0s 19ms/step - loss: 0.2286 - accuracy: 0.8990 - val_loss: 0.2458 - val_accuracy: 0.8800\n",
            "Epoch 25/50\n",
            "10/10 [==============================] - 0s 15ms/step - loss: 0.1943 - accuracy: 0.9192 - val_loss: 0.2222 - val_accuracy: 0.9200\n",
            "Epoch 26/50\n",
            "10/10 [==============================] - 0s 15ms/step - loss: 0.1565 - accuracy: 0.9293 - val_loss: 0.1783 - val_accuracy: 0.9200\n",
            "Epoch 27/50\n",
            "10/10 [==============================] - 0s 15ms/step - loss: 0.2222 - accuracy: 0.8990 - val_loss: 0.6866 - val_accuracy: 0.6800\n",
            "Epoch 28/50\n",
            "10/10 [==============================] - 0s 17ms/step - loss: 0.2889 - accuracy: 0.8586 - val_loss: 0.4110 - val_accuracy: 0.8400\n",
            "Epoch 29/50\n",
            "10/10 [==============================] - 0s 15ms/step - loss: 0.2053 - accuracy: 0.8889 - val_loss: 0.3650 - val_accuracy: 0.8000\n",
            "Epoch 30/50\n",
            "10/10 [==============================] - 0s 29ms/step - loss: 0.1888 - accuracy: 0.9192 - val_loss: 0.1909 - val_accuracy: 0.8800\n",
            "Epoch 31/50\n",
            "10/10 [==============================] - 0s 19ms/step - loss: 0.0991 - accuracy: 0.9596 - val_loss: 0.1931 - val_accuracy: 0.9200\n",
            "Epoch 32/50\n",
            "10/10 [==============================] - 0s 19ms/step - loss: 0.0695 - accuracy: 0.9899 - val_loss: 0.3027 - val_accuracy: 0.8400\n",
            "Epoch 33/50\n",
            "10/10 [==============================] - 0s 22ms/step - loss: 0.0557 - accuracy: 0.9899 - val_loss: 0.3092 - val_accuracy: 0.8800\n",
            "Epoch 34/50\n",
            "10/10 [==============================] - 0s 13ms/step - loss: 0.0545 - accuracy: 0.9798 - val_loss: 0.2485 - val_accuracy: 0.8400\n",
            "Epoch 35/50\n",
            "10/10 [==============================] - 0s 29ms/step - loss: 0.0586 - accuracy: 0.9697 - val_loss: 0.1455 - val_accuracy: 0.9200\n",
            "Epoch 36/50\n",
            "10/10 [==============================] - 0s 14ms/step - loss: 0.0546 - accuracy: 0.9798 - val_loss: 0.1784 - val_accuracy: 0.9200\n",
            "Epoch 37/50\n",
            "10/10 [==============================] - 0s 19ms/step - loss: 0.0526 - accuracy: 0.9899 - val_loss: 0.2203 - val_accuracy: 0.9200\n",
            "Epoch 38/50\n",
            "10/10 [==============================] - 0s 17ms/step - loss: 0.1207 - accuracy: 0.9596 - val_loss: 0.7403 - val_accuracy: 0.8800\n",
            "Epoch 39/50\n",
            "10/10 [==============================] - 0s 16ms/step - loss: 0.2445 - accuracy: 0.8889 - val_loss: 0.1453 - val_accuracy: 0.9200\n",
            "Epoch 40/50\n",
            "10/10 [==============================] - 0s 21ms/step - loss: 0.1533 - accuracy: 0.9495 - val_loss: 0.2743 - val_accuracy: 0.8800\n",
            "Epoch 41/50\n",
            "10/10 [==============================] - 0s 24ms/step - loss: 0.0956 - accuracy: 0.9697 - val_loss: 0.2406 - val_accuracy: 0.9600\n",
            "Epoch 42/50\n",
            "10/10 [==============================] - 0s 16ms/step - loss: 0.0657 - accuracy: 0.9798 - val_loss: 0.1507 - val_accuracy: 0.9200\n",
            "Epoch 43/50\n",
            "10/10 [==============================] - 0s 14ms/step - loss: 0.1001 - accuracy: 0.9394 - val_loss: 0.1603 - val_accuracy: 0.8800\n",
            "Epoch 44/50\n",
            "10/10 [==============================] - 0s 14ms/step - loss: 0.0591 - accuracy: 0.9798 - val_loss: 0.2953 - val_accuracy: 0.8800\n",
            "Epoch 45/50\n",
            "10/10 [==============================] - 0s 17ms/step - loss: 0.0990 - accuracy: 0.9596 - val_loss: 0.1560 - val_accuracy: 0.9200\n",
            "Epoch 46/50\n",
            "10/10 [==============================] - 0s 17ms/step - loss: 0.0896 - accuracy: 0.9495 - val_loss: 0.1902 - val_accuracy: 0.9600\n",
            "Epoch 47/50\n",
            "10/10 [==============================] - 0s 17ms/step - loss: 0.0509 - accuracy: 0.9798 - val_loss: 0.0509 - val_accuracy: 1.0000\n",
            "Epoch 48/50\n",
            "10/10 [==============================] - 0s 20ms/step - loss: 0.0609 - accuracy: 0.9596 - val_loss: 0.0951 - val_accuracy: 0.9600\n",
            "Epoch 49/50\n",
            "10/10 [==============================] - 0s 27ms/step - loss: 0.0445 - accuracy: 0.9798 - val_loss: 0.3054 - val_accuracy: 0.8800\n",
            "Epoch 50/50\n",
            "10/10 [==============================] - 0s 27ms/step - loss: 0.0574 - accuracy: 0.9697 - val_loss: 0.0535 - val_accuracy: 1.0000\n",
            "Epoch 1/50\n",
            "4/4 [==============================] - 1s 183ms/step - loss: 0.6306 - accuracy: 0.8485 - val_loss: 3.1844 - val_accuracy: 0.6667\n",
            "Epoch 2/50\n",
            "4/4 [==============================] - 0s 36ms/step - loss: 0.2730 - accuracy: 0.8485 - val_loss: 2.9010 - val_accuracy: 0.6667\n",
            "Epoch 3/50\n",
            "4/4 [==============================] - 0s 36ms/step - loss: 0.2962 - accuracy: 0.8788 - val_loss: 3.4841 - val_accuracy: 0.5556\n",
            "Epoch 4/50\n",
            "4/4 [==============================] - 0s 42ms/step - loss: 0.2641 - accuracy: 0.8485 - val_loss: 3.1074 - val_accuracy: 0.6667\n",
            "Epoch 5/50\n",
            "4/4 [==============================] - 0s 35ms/step - loss: 0.1652 - accuracy: 0.9091 - val_loss: 2.0107 - val_accuracy: 0.7778\n",
            "Epoch 6/50\n",
            "4/4 [==============================] - 0s 52ms/step - loss: 0.1679 - accuracy: 0.9697 - val_loss: 2.3558 - val_accuracy: 0.6667\n",
            "Epoch 7/50\n",
            "4/4 [==============================] - 0s 66ms/step - loss: 0.2072 - accuracy: 0.9091 - val_loss: 2.1645 - val_accuracy: 0.7778\n",
            "Epoch 8/50\n",
            "4/4 [==============================] - 0s 58ms/step - loss: 0.1567 - accuracy: 0.9394 - val_loss: 2.4213 - val_accuracy: 0.7778\n",
            "Epoch 9/50\n",
            "4/4 [==============================] - 0s 43ms/step - loss: 0.1032 - accuracy: 1.0000 - val_loss: 2.8008 - val_accuracy: 0.6667\n",
            "Epoch 10/50\n",
            "4/4 [==============================] - 0s 72ms/step - loss: 0.0971 - accuracy: 0.9697 - val_loss: 3.0179 - val_accuracy: 0.7778\n",
            "Epoch 11/50\n",
            "4/4 [==============================] - 0s 33ms/step - loss: 0.1167 - accuracy: 0.9394 - val_loss: 2.9146 - val_accuracy: 0.7778\n",
            "Epoch 12/50\n",
            "4/4 [==============================] - 0s 40ms/step - loss: 0.0636 - accuracy: 1.0000 - val_loss: 3.6700 - val_accuracy: 0.5556\n",
            "Epoch 13/50\n",
            "4/4 [==============================] - 0s 42ms/step - loss: 0.0909 - accuracy: 0.9394 - val_loss: 3.2444 - val_accuracy: 0.7778\n",
            "Epoch 14/50\n",
            "4/4 [==============================] - 0s 35ms/step - loss: 0.0676 - accuracy: 0.9697 - val_loss: 3.2234 - val_accuracy: 0.7778\n",
            "Epoch 15/50\n",
            "4/4 [==============================] - 0s 27ms/step - loss: 0.0755 - accuracy: 0.9697 - val_loss: 4.5208 - val_accuracy: 0.5556\n",
            "Epoch 16/50\n",
            "4/4 [==============================] - 0s 29ms/step - loss: 0.0944 - accuracy: 0.9697 - val_loss: 3.5066 - val_accuracy: 0.7778\n",
            "Epoch 17/50\n",
            "4/4 [==============================] - 0s 28ms/step - loss: 0.0590 - accuracy: 0.9697 - val_loss: 3.9956 - val_accuracy: 0.7778\n",
            "Epoch 18/50\n",
            "4/4 [==============================] - 0s 28ms/step - loss: 0.0237 - accuracy: 1.0000 - val_loss: 4.3144 - val_accuracy: 0.7778\n",
            "Epoch 19/50\n",
            "4/4 [==============================] - 0s 27ms/step - loss: 0.0149 - accuracy: 1.0000 - val_loss: 4.1918 - val_accuracy: 0.7778\n",
            "Epoch 20/50\n",
            "4/4 [==============================] - 0s 21ms/step - loss: 0.0075 - accuracy: 1.0000 - val_loss: 4.1658 - val_accuracy: 0.7778\n",
            "Epoch 21/50\n",
            "4/4 [==============================] - 0s 27ms/step - loss: 0.0118 - accuracy: 1.0000 - val_loss: 4.4170 - val_accuracy: 0.7778\n",
            "Epoch 22/50\n",
            "4/4 [==============================] - 0s 31ms/step - loss: 0.0062 - accuracy: 1.0000 - val_loss: 4.8766 - val_accuracy: 0.7778\n",
            "Epoch 23/50\n",
            "4/4 [==============================] - 0s 30ms/step - loss: 0.0069 - accuracy: 1.0000 - val_loss: 4.8480 - val_accuracy: 0.7778\n",
            "Epoch 24/50\n",
            "4/4 [==============================] - 0s 28ms/step - loss: 0.0025 - accuracy: 1.0000 - val_loss: 4.7285 - val_accuracy: 0.7778\n",
            "Epoch 25/50\n",
            "4/4 [==============================] - 0s 28ms/step - loss: 0.0040 - accuracy: 1.0000 - val_loss: 4.7877 - val_accuracy: 0.7778\n",
            "Epoch 26/50\n",
            "4/4 [==============================] - 0s 27ms/step - loss: 0.0038 - accuracy: 1.0000 - val_loss: 4.9998 - val_accuracy: 0.7778\n",
            "Epoch 27/50\n",
            "4/4 [==============================] - 0s 14ms/step - loss: 0.0014 - accuracy: 1.0000 - val_loss: 5.1957 - val_accuracy: 0.7778\n",
            "Epoch 28/50\n",
            "4/4 [==============================] - 0s 14ms/step - loss: 0.0013 - accuracy: 1.0000 - val_loss: 5.3158 - val_accuracy: 0.7778\n",
            "Epoch 29/50\n",
            "4/4 [==============================] - 0s 14ms/step - loss: 0.0013 - accuracy: 1.0000 - val_loss: 5.3689 - val_accuracy: 0.7778\n",
            "Epoch 30/50\n",
            "4/4 [==============================] - 0s 14ms/step - loss: 0.0011 - accuracy: 1.0000 - val_loss: 5.3829 - val_accuracy: 0.7778\n",
            "Epoch 31/50\n",
            "4/4 [==============================] - 0s 14ms/step - loss: 8.5709e-04 - accuracy: 1.0000 - val_loss: 5.3922 - val_accuracy: 0.7778\n",
            "Epoch 32/50\n",
            "4/4 [==============================] - 0s 16ms/step - loss: 7.5241e-04 - accuracy: 1.0000 - val_loss: 5.4141 - val_accuracy: 0.7778\n",
            "Epoch 33/50\n",
            "4/4 [==============================] - 0s 14ms/step - loss: 7.2210e-04 - accuracy: 1.0000 - val_loss: 5.4599 - val_accuracy: 0.7778\n",
            "Epoch 34/50\n",
            "4/4 [==============================] - 0s 20ms/step - loss: 6.6964e-04 - accuracy: 1.0000 - val_loss: 5.4958 - val_accuracy: 0.7778\n",
            "Epoch 35/50\n",
            "4/4 [==============================] - 0s 17ms/step - loss: 6.3944e-04 - accuracy: 1.0000 - val_loss: 5.5304 - val_accuracy: 0.7778\n",
            "Epoch 36/50\n",
            "4/4 [==============================] - 0s 17ms/step - loss: 6.2066e-04 - accuracy: 1.0000 - val_loss: 5.5613 - val_accuracy: 0.7778\n",
            "Epoch 37/50\n",
            "4/4 [==============================] - 0s 23ms/step - loss: 6.0414e-04 - accuracy: 1.0000 - val_loss: 5.5798 - val_accuracy: 0.7778\n",
            "Epoch 38/50\n",
            "4/4 [==============================] - 0s 20ms/step - loss: 5.7661e-04 - accuracy: 1.0000 - val_loss: 5.5883 - val_accuracy: 0.7778\n",
            "Epoch 39/50\n",
            "4/4 [==============================] - 0s 14ms/step - loss: 5.3849e-04 - accuracy: 1.0000 - val_loss: 5.5808 - val_accuracy: 0.7778\n",
            "Epoch 40/50\n",
            "4/4 [==============================] - 0s 14ms/step - loss: 5.3247e-04 - accuracy: 1.0000 - val_loss: 5.5821 - val_accuracy: 0.7778\n",
            "Epoch 41/50\n",
            "4/4 [==============================] - 0s 21ms/step - loss: 5.3562e-04 - accuracy: 1.0000 - val_loss: 5.5983 - val_accuracy: 0.7778\n",
            "Epoch 42/50\n",
            "4/4 [==============================] - 0s 14ms/step - loss: 5.1877e-04 - accuracy: 1.0000 - val_loss: 5.6233 - val_accuracy: 0.7778\n",
            "Epoch 43/50\n",
            "4/4 [==============================] - 0s 19ms/step - loss: 4.9733e-04 - accuracy: 1.0000 - val_loss: 5.6481 - val_accuracy: 0.7778\n",
            "Epoch 44/50\n",
            "4/4 [==============================] - 0s 14ms/step - loss: 4.7257e-04 - accuracy: 1.0000 - val_loss: 5.6661 - val_accuracy: 0.7778\n",
            "Epoch 45/50\n",
            "4/4 [==============================] - 0s 15ms/step - loss: 4.4730e-04 - accuracy: 1.0000 - val_loss: 5.6968 - val_accuracy: 0.7778\n",
            "Epoch 46/50\n",
            "4/4 [==============================] - 0s 14ms/step - loss: 4.2893e-04 - accuracy: 1.0000 - val_loss: 5.7272 - val_accuracy: 0.7778\n",
            "Epoch 47/50\n",
            "4/4 [==============================] - 0s 14ms/step - loss: 4.2116e-04 - accuracy: 1.0000 - val_loss: 5.7586 - val_accuracy: 0.7778\n",
            "Epoch 48/50\n",
            "4/4 [==============================] - 0s 18ms/step - loss: 4.1989e-04 - accuracy: 1.0000 - val_loss: 5.7794 - val_accuracy: 0.7778\n",
            "Epoch 49/50\n",
            "4/4 [==============================] - 0s 14ms/step - loss: 4.1556e-04 - accuracy: 1.0000 - val_loss: 5.7897 - val_accuracy: 0.7778\n",
            "Epoch 50/50\n",
            "4/4 [==============================] - 0s 16ms/step - loss: 3.9043e-04 - accuracy: 1.0000 - val_loss: 5.7732 - val_accuracy: 0.7778\n",
            "2/2 [==============================] - 0s 9ms/step - loss: 1.2374 - accuracy: 0.9524\n",
            "Best model loss: 1.23741614818573, accuracy: 0.9523809552192688\n",
            "Results summary\n",
            "Results in my_dir/sonar_kt\n",
            "Showing 10 best trials\n",
            "Objective(name=\"val_accuracy\", direction=\"max\")\n",
            "\n",
            "Trial 00 summary\n",
            "Hyperparameters:\n",
            "units_input: 448\n",
            "n_layers: 1\n",
            "units_layer0: 416\n",
            "learning_rate: 0.01\n",
            "Score: 0.8095238208770752\n",
            "\n",
            "Trial 04 summary\n",
            "Hyperparameters:\n",
            "units_input: 32\n",
            "n_layers: 2\n",
            "units_layer0: 128\n",
            "learning_rate: 0.001\n",
            "units_layer1: 448\n",
            "units_layer2: 512\n",
            "units_layer3: 416\n",
            "Score: 0.8095238208770752\n",
            "\n",
            "Trial 06 summary\n",
            "Hyperparameters:\n",
            "units_input: 352\n",
            "n_layers: 2\n",
            "units_layer0: 512\n",
            "learning_rate: 0.001\n",
            "units_layer1: 32\n",
            "units_layer2: 416\n",
            "units_layer3: 192\n",
            "Score: 0.8095238208770752\n",
            "\n",
            "Trial 08 summary\n",
            "Hyperparameters:\n",
            "units_input: 288\n",
            "n_layers: 1\n",
            "units_layer0: 64\n",
            "learning_rate: 0.001\n",
            "units_layer1: 96\n",
            "units_layer2: 96\n",
            "units_layer3: 384\n",
            "Score: 0.8095237910747528\n",
            "\n",
            "Trial 02 summary\n",
            "Hyperparameters:\n",
            "units_input: 128\n",
            "n_layers: 3\n",
            "units_layer0: 256\n",
            "learning_rate: 0.001\n",
            "units_layer1: 32\n",
            "units_layer2: 32\n",
            "Score: 0.7857142984867096\n",
            "\n",
            "Trial 03 summary\n",
            "Hyperparameters:\n",
            "units_input: 352\n",
            "n_layers: 4\n",
            "units_layer0: 224\n",
            "learning_rate: 0.01\n",
            "units_layer1: 160\n",
            "units_layer2: 288\n",
            "units_layer3: 32\n",
            "Score: 0.7857142686843872\n",
            "\n",
            "Trial 07 summary\n",
            "Hyperparameters:\n",
            "units_input: 256\n",
            "n_layers: 4\n",
            "units_layer0: 256\n",
            "learning_rate: 0.0001\n",
            "units_layer1: 384\n",
            "units_layer2: 384\n",
            "units_layer3: 256\n",
            "Score: 0.738095223903656\n",
            "\n",
            "Trial 05 summary\n",
            "Hyperparameters:\n",
            "units_input: 448\n",
            "n_layers: 2\n",
            "units_layer0: 160\n",
            "learning_rate: 0.0001\n",
            "units_layer1: 192\n",
            "units_layer2: 480\n",
            "units_layer3: 128\n",
            "Score: 0.7261904776096344\n",
            "\n",
            "Trial 09 summary\n",
            "Hyperparameters:\n",
            "units_input: 32\n",
            "n_layers: 3\n",
            "units_layer0: 256\n",
            "learning_rate: 0.0001\n",
            "units_layer1: 256\n",
            "units_layer2: 480\n",
            "units_layer3: 160\n",
            "Score: 0.630952388048172\n",
            "\n",
            "Trial 01 summary\n",
            "Hyperparameters:\n",
            "units_input: 64\n",
            "n_layers: 1\n",
            "units_layer0: 128\n",
            "learning_rate: 0.0001\n",
            "Score: 0.5833333432674408\n"
          ]
        }
      ]
    }
  ]
}